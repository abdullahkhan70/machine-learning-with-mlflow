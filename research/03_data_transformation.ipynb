{
 "cells": [
  {
   "cell_type": "code",
   "execution_count": 1,
   "metadata": {},
   "outputs": [],
   "source": [
    "import os\n",
    "import pandas as pd\n",
    "from dataclasses import dataclass\n",
    "from pathlib import Path\n",
    "from ml_project.constants import *\n",
    "from ml_project.utils.common import read_yaml, create_directories\n",
    "from sklearn.model_selection import train_test_split\n",
    "from ml_project import logger"
   ]
  },
  {
   "cell_type": "code",
   "execution_count": 2,
   "metadata": {},
   "outputs": [
    {
     "name": "stdout",
     "output_type": "stream",
     "text": [
      "f:/Tutorials/Deep Learning/Machine Learning Projects/End to End Machine Learning/machine-learning-with-mlflow\n"
     ]
    }
   ],
   "source": [
    "os.chdir(\"../\")\n",
    "!pwd"
   ]
  },
  {
   "cell_type": "code",
   "execution_count": 3,
   "metadata": {},
   "outputs": [],
   "source": [
    "# Entity of the configuration from config.yaml\n",
    "\n",
    "@dataclass(frozen=True)\n",
    "class DataTransformationConfig:\n",
    "    root_dir: Path\n",
    "    data_path: Path"
   ]
  },
  {
   "cell_type": "code",
   "execution_count": 4,
   "metadata": {},
   "outputs": [],
   "source": [
    "# Create the ConfigurationManager\n",
    "\n",
    "class DataTransformationConfigurationManager:\n",
    "    def __init__(self, config_path = CONFIG_FILE_PATH, params_path = PARAMS_FILE_PATH, schema_path = SCHEMA_FILE_PATH) -> None:\n",
    "        self.config = read_yaml(config_path)\n",
    "        self.params = read_yaml(params_path)\n",
    "        self.schema = read_yaml(schema_path)\n",
    "\n",
    "        create_directories([self.config.artifacts_root])\n",
    "\n",
    "    def get_data_transformation_config(self) -> DataTransformationConfig:\n",
    "        config = self.config.data_transformation\n",
    "\n",
    "        create_directories([config.root_dir])\n",
    "\n",
    "        data_transformation_config = DataTransformationConfig(\n",
    "            root_dir = config.root_dir,\n",
    "            data_path = config.data_path\n",
    "        )\n",
    "\n",
    "        return data_transformation_config"
   ]
  },
  {
   "cell_type": "code",
   "execution_count": 5,
   "metadata": {},
   "outputs": [],
   "source": [
    "# Create the component for DataTransformation.\n",
    "\n",
    "class DataTransformation:\n",
    "    def __init__(self, config: DataTransformationConfig) -> None:\n",
    "        self.config = config\n",
    "    \n",
    "    def train_test_splitting(self):\n",
    "        data = pd.read_csv(self.config.data_path)\n",
    "\n",
    "        # Split the dataset into training and testing.\n",
    "        train, test = train_test_split(data)\n",
    "\n",
    "        train.to_csv(os.path.join(self.config.root_dir, \"train.csv\"), index=False)\n",
    "        test.to_csv(os.path.join(self.config.root_dir, \"test.csv\"), index=False)\n",
    "\n",
    "        logger.info(f\"Splitting data into training and test sets\")\n",
    "        logger.info(f\"Training Dataset Shape: {train.shape}\")\n",
    "        logger.info(f\"Testing Dataset Shape: {test.shape}\")\n",
    "    "
   ]
  },
  {
   "cell_type": "code",
   "execution_count": 6,
   "metadata": {},
   "outputs": [
    {
     "name": "stdout",
     "output_type": "stream",
     "text": [
      "[2023-08-06 15:11:47,116: INFO: common: yaml file: config\\config.yaml loaded successfully.]\n",
      "[2023-08-06 15:11:47,160: INFO: common: yaml file: params.yaml loaded successfully.]\n",
      "[2023-08-06 15:11:47,167: INFO: common: yaml file: schema.yaml loaded successfully.]\n",
      "[2023-08-06 15:11:47,169: INFO: common: Created directory at: artifacts]\n",
      "[2023-08-06 15:11:47,172: INFO: common: Created directory at: artifacts/data_transformation]\n",
      "[2023-08-06 15:11:47,275: INFO: 3694426808: Splitting data into training and test sets]\n",
      "[2023-08-06 15:11:47,276: INFO: 3694426808: Training Dataset Shape: (1199, 12)]\n",
      "[2023-08-06 15:11:47,278: INFO: 3694426808: Testing Dataset Shape: (400, 12)]\n"
     ]
    }
   ],
   "source": [
    "# Define the pipline\n",
    "\n",
    "try:\n",
    "    config = DataTransformationConfigurationManager()\n",
    "    data_transformation_config = config.get_data_transformation_config()\n",
    "    data_transformation = DataTransformation(config = data_transformation_config)\n",
    "    data_transformation.train_test_splitting()\n",
    "except Exception as error:\n",
    "    raise error"
   ]
  }
 ],
 "metadata": {
  "kernelspec": {
   "display_name": "Python 3.10.8 64-bit",
   "language": "python",
   "name": "python3"
  },
  "language_info": {
   "codemirror_mode": {
    "name": "ipython",
    "version": 3
   },
   "file_extension": ".py",
   "mimetype": "text/x-python",
   "name": "python",
   "nbconvert_exporter": "python",
   "pygments_lexer": "ipython3",
   "version": "3.10.8"
  },
  "orig_nbformat": 4,
  "vscode": {
   "interpreter": {
    "hash": "369f2c481f4da34e4445cda3fffd2e751bd1c4d706f27375911949ba6bb62e1c"
   }
  }
 },
 "nbformat": 4,
 "nbformat_minor": 2
}
